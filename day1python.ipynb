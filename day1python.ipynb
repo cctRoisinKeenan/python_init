{
 "cells": [
  {
   "cell_type": "markdown",
   "id": "612111e4-3609-45e7-b369-f73a3cb06596",
   "metadata": {},
   "source": [
    "# python bootcamp Day 1"
   ]
  },
  {
   "cell_type": "code",
   "execution_count": 2,
   "id": "300f0e1f-f57f-453a-8b92-c8b30504ef9d",
   "metadata": {},
   "outputs": [
    {
     "name": "stdout",
     "output_type": "stream",
     "text": [
      "welcome to CCT\n"
     ]
    }
   ],
   "source": [
    "print(\"welcome to CCT\")"
   ]
  },
  {
   "cell_type": "code",
   "execution_count": 3,
   "id": "507fb35b-9498-4a7c-a211-99e9bdc87abc",
   "metadata": {},
   "outputs": [
    {
     "name": "stdout",
     "output_type": "stream",
     "text": [
      "welcome to CCT\n"
     ]
    }
   ],
   "source": [
    "print('welcome to CCT')"
   ]
  },
  {
   "cell_type": "code",
   "execution_count": 4,
   "id": "607c28b6-a863-45cc-8171-c4a16b453ea2",
   "metadata": {},
   "outputs": [
    {
     "name": "stdout",
     "output_type": "stream",
     "text": [
      "3.12.4 | packaged by Anaconda, Inc. | (main, Jun 18 2024, 15:03:56) [MSC v.1929 64 bit (AMD64)]\n"
     ]
    }
   ],
   "source": [
    "#import a library called sys\n",
    "\n",
    "import sys\n",
    "\n",
    "print(sys.version)\n"
   ]
  },
  {
   "cell_type": "markdown",
   "id": "86b6692b-7a19-46b1-ae01-2f64b8252149",
   "metadata": {},
   "source": [
    "## Python indentation"
   ]
  },
  {
   "cell_type": "code",
   "execution_count": 6,
   "id": "e3360a4c-4dec-4e3e-bb12-bb25584a2f94",
   "metadata": {},
   "outputs": [
    {
     "name": "stdout",
     "output_type": "stream",
     "text": [
      "true\n",
      " 5 is greter\n"
     ]
    }
   ],
   "source": [
    "if 5>4:\n",
    "    print(\"true\")\n",
    "    print(\" 5 is greter\")"
   ]
  },
  {
   "cell_type": "markdown",
   "id": "df8ee851-7dfb-4241-bb20-50f2aa4ae49f",
   "metadata": {},
   "source": [
    "## Variables in python"
   ]
  },
  {
   "cell_type": "code",
   "execution_count": 8,
   "id": "e421cdbd-fcd2-463b-98f5-b2af16c3abad",
   "metadata": {},
   "outputs": [
    {
     "name": "stdout",
     "output_type": "stream",
     "text": [
      "sum =  14.5\n"
     ]
    }
   ],
   "source": [
    "x=5\n",
    "y=9.5\n",
    "\n",
    "sum=x+y\n",
    "print(\"sum = \",sum)"
   ]
  },
  {
   "cell_type": "code",
   "execution_count": 9,
   "id": "63d4b1c3-8189-40db-94fa-9bdf1854028f",
   "metadata": {},
   "outputs": [
    {
     "name": "stdout",
     "output_type": "stream",
     "text": [
      "Rose\n"
     ]
    }
   ],
   "source": [
    "name = \"Rose\"\n",
    "print(name)"
   ]
  },
  {
   "cell_type": "markdown",
   "id": "b2e7322f-6c1d-467a-bcf8-395aea6b6682",
   "metadata": {},
   "source": [
    "## Casting"
   ]
  },
  {
   "cell_type": "code",
   "execution_count": 11,
   "id": "f7cff2d9-df30-49bf-be14-86d5c195b221",
   "metadata": {},
   "outputs": [],
   "source": [
    "x=str(3) #3 is a character\n",
    "y=int(3)\n",
    "z=float(3.5)"
   ]
  },
  {
   "cell_type": "code",
   "execution_count": 12,
   "id": "c5d66bc8-bb52-4165-a334-053b9153d1e0",
   "metadata": {},
   "outputs": [
    {
     "name": "stdout",
     "output_type": "stream",
     "text": [
      "<class 'str'> \n",
      " <class 'int'> \n",
      " <class 'float'>\n"
     ]
    }
   ],
   "source": [
    "print(type(x), '\\n', type(y), '\\n', type(z) )\n"
   ]
  },
  {
   "cell_type": "markdown",
   "id": "a1a8b035-319a-4b11-88c3-e98255c6e7c3",
   "metadata": {},
   "source": [
    "* text type: str\n",
    "* numeric types int, float, complex\n",
    "* sequence types list, tuple, range"
   ]
  },
  {
   "cell_type": "code",
   "execution_count": 14,
   "id": "df178909-5fb6-4972-9260-700edaae5313",
   "metadata": {},
   "outputs": [
    {
     "name": "stdout",
     "output_type": "stream",
     "text": [
      "banana\n"
     ]
    }
   ],
   "source": [
    "#declare and initialise a string\n",
    "fruit = 'banana'\n",
    "\n",
    "#display this string\n",
    "print(fruit)"
   ]
  },
  {
   "cell_type": "code",
   "execution_count": 15,
   "id": "30f615d6-dfce-4df9-b927-59a85bf861ee",
   "metadata": {},
   "outputs": [
    {
     "name": "stdout",
     "output_type": "stream",
     "text": [
      "b \t a\n"
     ]
    }
   ],
   "source": [
    "#display first and last characters to show that the index of the first letter is [0]\n",
    "\n",
    "print(fruit[0],'\\t', fruit[5])"
   ]
  },
  {
   "cell_type": "code",
   "execution_count": 16,
   "id": "6c5fb155-31d2-44a9-9107-2551855073e3",
   "metadata": {},
   "outputs": [
    {
     "name": "stdout",
     "output_type": "stream",
     "text": [
      "n \t n\n"
     ]
    }
   ],
   "source": [
    "#display the n's show that the index of the the n's [0]\n",
    "\n",
    "print(fruit[2],'\\t', fruit[4])"
   ]
  },
  {
   "cell_type": "code",
   "execution_count": 17,
   "id": "92ef1ffb-aa1a-4c89-89b7-9fee360ae0f6",
   "metadata": {},
   "outputs": [
    {
     "name": "stdout",
     "output_type": "stream",
     "text": [
      "14\n"
     ]
    }
   ],
   "source": [
    "#write a welcome messaage and find the length of it, find that space are counted as an \n",
    "message=\"welocme to cct\"\n",
    "length=len(message)\n",
    "print (length)"
   ]
  },
  {
   "cell_type": "code",
   "execution_count": 18,
   "id": "b6740383-3065-4e1d-8181-7b799c471735",
   "metadata": {},
   "outputs": [
    {
     "name": "stdout",
     "output_type": "stream",
     "text": [
      "w\n",
      "e\n",
      "l\n",
      "c\n",
      "o\n",
      "m\n",
      "e\n"
     ]
    }
   ],
   "source": [
    "message1=\"welcome\"\n",
    "#for loop, this repeats a statement like print over and over\n",
    "for i in message1:\n",
    "    print(i)"
   ]
  },
  {
   "cell_type": "code",
   "execution_count": 19,
   "id": "b7fbd396-bb6c-4961-9348-b10e5d12b5a8",
   "metadata": {},
   "outputs": [
    {
     "name": "stdout",
     "output_type": "stream",
     "text": [
      "6   e\n",
      "5   m\n",
      "4   c\n",
      "3   o\n",
      "2   l\n",
      "1   e\n",
      "0   w\n"
     ]
    }
   ],
   "source": [
    "#display the welcome message in reverse order, using the index of each letter\n",
    "startindex = len(message1) - 1    #length of the string -1 to give us 6\n",
    "stopindex = -1                    #stopping index\n",
    "step = -1                         #6,5,4,3,2,1,0\n",
    "\n",
    "for i in range(startindex, stopindex, step):\n",
    "    print(i, \" \", message[i])\n",
    "    \n",
    "    \n"
   ]
  },
  {
   "cell_type": "code",
   "execution_count": 20,
   "id": "8605d2e4-fca4-4dd0-abe5-1b0546620d1a",
   "metadata": {},
   "outputs": [
    {
     "name": "stdout",
     "output_type": "stream",
     "text": [
      "popular\n"
     ]
    }
   ],
   "source": [
    "#declare and initalise a string\n",
    "s = \"popular python\"\n",
    "\n",
    "print(s[0:7])\n"
   ]
  },
  {
   "cell_type": "code",
   "execution_count": 21,
   "id": "e66feb6d-68b3-494d-8041-770b26bc911a",
   "metadata": {},
   "outputs": [
    {
     "name": "stdout",
     "output_type": "stream",
     "text": [
      "python\n"
     ]
    }
   ],
   "source": [
    "#just display certain part, index [8] is the p in python\n",
    "print(s[8:14])"
   ]
  },
  {
   "cell_type": "code",
   "execution_count": 22,
   "id": "6dfc9a7c-ea23-4d07-9c4a-cf7f7977055e",
   "metadata": {},
   "outputs": [
    {
     "name": "stdout",
     "output_type": "stream",
     "text": [
      "python\n"
     ]
    }
   ],
   "source": [
    "#don't know length of string\n",
    "\n",
    "print(s[8:])"
   ]
  },
  {
   "cell_type": "code",
   "execution_count": 23,
   "id": "b50814c0-9380-4689-a05e-1b79ccaf0e37",
   "metadata": {},
   "outputs": [
    {
     "name": "stdout",
     "output_type": "stream",
     "text": [
      "ular\n"
     ]
    }
   ],
   "source": [
    "#find certain part of string ular\n",
    "print(s[3:7])"
   ]
  },
  {
   "cell_type": "code",
   "execution_count": 24,
   "id": "732fecda-f0fa-4856-8f50-75d887a62a4e",
   "metadata": {},
   "outputs": [
    {
     "name": "stdout",
     "output_type": "stream",
     "text": [
      "pop \t\t  pop\n"
     ]
    }
   ],
   "source": [
    "#find first 3 characters, in the second example, the 3 says, 'less than 3', so index 0,1,2 (not 3)\n",
    "print(s[:3], \"\\t\\t \", s[0:3])"
   ]
  },
  {
   "cell_type": "markdown",
   "id": "c98c88a0-45f8-45b7-8867-c5fef8237dec",
   "metadata": {},
   "source": [
    "# are the strings immutable"
   ]
  },
  {
   "cell_type": "code",
   "execution_count": 26,
   "id": "37360897-c88a-4ab2-aa2b-15f105c2f809",
   "metadata": {},
   "outputs": [
    {
     "name": "stdout",
     "output_type": "stream",
     "text": [
      "Pwelcome to party\n"
     ]
    }
   ],
   "source": [
    "greeting = 'welcome to party' #declare and initalise a string\n",
    "\n",
    "# greeting[0]= 'p'  doesn't work, w cannot be overwritter = immutable\n",
    "new_greeting = 'P' + greeting # P plus an immutable string\n",
    "print(new_greeting)\n"
   ]
  },
  {
   "cell_type": "markdown",
   "id": "721a5fa7-a5ec-4428-ada9-5c0e495c0220",
   "metadata": {},
   "source": [
    "# Lists"
   ]
  },
  {
   "cell_type": "code",
   "execution_count": 28,
   "id": "85ec1b29-25fb-4a03-ae8a-9b7d2e0dbd77",
   "metadata": {},
   "outputs": [
    {
     "name": "stdout",
     "output_type": "stream",
     "text": [
      "[10, 20, 30, 40] <class 'list'>\n",
      "['zebra', 'ram', 'lark'] <class 'list'>\n"
     ]
    }
   ],
   "source": [
    "# declare the 2 lists\n",
    "c = [10, 20, 30, 40]                 #enclose values in square brackets\n",
    "d = ['zebra', 'ram', 'lark']    #string values in a list\n",
    "\n",
    "#display the string and its type\n",
    "print(c, type(c))\n",
    "print(d, type(d))"
   ]
  },
  {
   "cell_type": "code",
   "execution_count": 29,
   "id": "367999dd-b3bd-4f73-975c-e3502d3cb2dd",
   "metadata": {},
   "outputs": [
    {
     "name": "stdout",
     "output_type": "stream",
     "text": [
      "sum of numbers in list: 100\n"
     ]
    }
   ],
   "source": [
    "c = [10, 20, 30, 40]  \n",
    "#declare and initalise a variale sum\n",
    "sum = 0\n",
    "\n",
    "for i in c:\n",
    "    sum = sum + i\n",
    "\n",
    "print('sum of numbers in list:', sum)\n",
    "    \n",
    "\n"
   ]
  },
  {
   "cell_type": "code",
   "execution_count": 30,
   "id": "72dc5dff-e9c6-441b-99c3-6b7e913426bf",
   "metadata": {},
   "outputs": [
    {
     "name": "stdout",
     "output_type": "stream",
     "text": [
      "average of numbers in list: 25.0\n"
     ]
    }
   ],
   "source": [
    "# to find mean of list, find the number of values in list, and use it to divide the sum\n",
    "print('average of numbers in list:', sum/len(c))\n"
   ]
  },
  {
   "cell_type": "code",
   "execution_count": null,
   "id": "106209a7-9b39-4029-87b1-6f711118b2e8",
   "metadata": {},
   "outputs": [],
   "source": []
  }
 ],
 "metadata": {
  "kernelspec": {
   "display_name": "Python 3 (ipykernel)",
   "language": "python",
   "name": "python3"
  },
  "language_info": {
   "codemirror_mode": {
    "name": "ipython",
    "version": 3
   },
   "file_extension": ".py",
   "mimetype": "text/x-python",
   "name": "python",
   "nbconvert_exporter": "python",
   "pygments_lexer": "ipython3",
   "version": "3.12.4"
  }
 },
 "nbformat": 4,
 "nbformat_minor": 5
}
