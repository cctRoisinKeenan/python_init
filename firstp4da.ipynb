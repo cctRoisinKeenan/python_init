{
 "cells": [
  {
   "cell_type": "markdown",
   "id": "cf154abe-3922-4e50-9d8d-9e3bec774b82",
   "metadata": {},
   "source": [
    "# Hello Welcome to programming\n",
    "### First line of code\n"
   ]
  },
  {
   "cell_type": "code",
   "execution_count": 2,
   "id": "296f4f33-8a0f-4c45-ab6c-e507b88585ee",
   "metadata": {},
   "outputs": [
    {
     "name": "stdout",
     "output_type": "stream",
     "text": [
      "hello world\n"
     ]
    }
   ],
   "source": [
    "#print a hello world statement\n",
    "print(\"hello world\")"
   ]
  },
  {
   "cell_type": "markdown",
   "id": "5f9f90e4-0a4a-4eab-b97a-77542ea858f5",
   "metadata": {},
   "source": [
    "## Data types\n",
    "- int (integer, whole, i.e. 10,-1,0)\n",
    "- float (decimal i.e. 1.28, or 1.6666(repeating non terminating))\n",
    "- str (string text, i.e \"hello world\", \"9\")\n",
    "- bool (boolean true/false)"
   ]
  },
  {
   "cell_type": "code",
   "execution_count": 4,
   "id": "4d1c04ad-668c-4265-a238-5e1f3c511b01",
   "metadata": {},
   "outputs": [
    {
     "data": {
      "text/plain": [
       "5"
      ]
     },
     "execution_count": 4,
     "metadata": {},
     "output_type": "execute_result"
    }
   ],
   "source": [
    "# arethmetic operation\n",
    "# 2 + - / * 2 % =\n",
    "2+3"
   ]
  },
  {
   "cell_type": "code",
   "execution_count": 5,
   "id": "e3b7051c-3f71-4303-bf43-0194c876211a",
   "metadata": {},
   "outputs": [
    {
     "data": {
      "text/plain": [
       "12"
      ]
     },
     "execution_count": 5,
     "metadata": {},
     "output_type": "execute_result"
    }
   ],
   "source": [
    "# multiply\n",
    "3 * 4"
   ]
  },
  {
   "cell_type": "code",
   "execution_count": 6,
   "id": "26fd8b3b-3227-4067-895d-c771076cabc3",
   "metadata": {},
   "outputs": [
    {
     "data": {
      "text/plain": [
       "-2"
      ]
     },
     "execution_count": 6,
     "metadata": {},
     "output_type": "execute_result"
    }
   ],
   "source": [
    "# subtraction\n",
    "6 - 8"
   ]
  },
  {
   "cell_type": "code",
   "execution_count": 7,
   "id": "0d796bd4-aca1-459a-b73f-fdc7218ce6ef",
   "metadata": {},
   "outputs": [
    {
     "data": {
      "text/plain": [
       "2.0"
      ]
     },
     "execution_count": 7,
     "metadata": {},
     "output_type": "execute_result"
    }
   ],
   "source": [
    "# division results in a float\n",
    "8/4"
   ]
  },
  {
   "cell_type": "code",
   "execution_count": 8,
   "id": "8fd531a6-c230-4f4e-870b-2e3c8e9ec192",
   "metadata": {},
   "outputs": [
    {
     "data": {
      "text/plain": [
       "2.3333333333333335"
      ]
     },
     "execution_count": 8,
     "metadata": {},
     "output_type": "execute_result"
    }
   ],
   "source": [
    "7/3"
   ]
  },
  {
   "cell_type": "markdown",
   "id": "190b5c4b-0a54-46e5-9596-604570520b01",
   "metadata": {},
   "source": [
    "# Check value types"
   ]
  },
  {
   "cell_type": "code",
   "execution_count": 10,
   "id": "417fdb27-1c84-426d-97de-b2e1904cd3e0",
   "metadata": {},
   "outputs": [
    {
     "data": {
      "text/plain": [
       "int"
      ]
     },
     "execution_count": 10,
     "metadata": {},
     "output_type": "execute_result"
    }
   ],
   "source": [
    "type (4)\n"
   ]
  },
  {
   "cell_type": "code",
   "execution_count": 11,
   "id": "26eae8cc-5bd7-4ee0-8ac4-8e9e094d09c4",
   "metadata": {},
   "outputs": [
    {
     "data": {
      "text/plain": [
       "float"
      ]
     },
     "execution_count": 11,
     "metadata": {},
     "output_type": "execute_result"
    }
   ],
   "source": [
    "type (1.0)"
   ]
  },
  {
   "cell_type": "code",
   "execution_count": 12,
   "id": "992ca2f4-d30e-4ac3-acaa-87e202f2e793",
   "metadata": {},
   "outputs": [
    {
     "data": {
      "text/plain": [
       "str"
      ]
     },
     "execution_count": 12,
     "metadata": {},
     "output_type": "execute_result"
    }
   ],
   "source": [
    "type (\"hello world\")"
   ]
  },
  {
   "cell_type": "code",
   "execution_count": 13,
   "id": "b171b642-afa0-451e-96a1-989aa8e2a439",
   "metadata": {},
   "outputs": [
    {
     "data": {
      "text/plain": [
       "bool"
      ]
     },
     "execution_count": 13,
     "metadata": {},
     "output_type": "execute_result"
    }
   ],
   "source": [
    "type (True)"
   ]
  },
  {
   "cell_type": "code",
   "execution_count": 16,
   "id": "d2d75d5d-2233-4ed0-a4e7-bb9c6767eaf3",
   "metadata": {},
   "outputs": [],
   "source": [
    "#type (true) will get name error ar 'true' is not defined"
   ]
  },
  {
   "cell_type": "code",
   "execution_count": 18,
   "id": "fb5eff84-35b2-4870-ad88-4bfdfba11956",
   "metadata": {},
   "outputs": [],
   "source": [
    "# insantatiation - create a reference for something\n",
    "# initialise -we give a value\n",
    "name = \"Tom\""
   ]
  },
  {
   "cell_type": "code",
   "execution_count": 20,
   "id": "325a2703-0b31-4b7f-b6ca-15d53b94dcbb",
   "metadata": {},
   "outputs": [
    {
     "data": {
      "text/plain": [
       "str"
      ]
     },
     "execution_count": 20,
     "metadata": {},
     "output_type": "execute_result"
    }
   ],
   "source": [
    "type (name)"
   ]
  },
  {
   "cell_type": "code",
   "execution_count": 26,
   "id": "94bc7950-2f9b-437c-a371-7046af72fd13",
   "metadata": {},
   "outputs": [],
   "source": [
    "# \"\" make a string\n",
    "# \"\" use on outer quotes, '' use on inner quotes"
   ]
  },
  {
   "cell_type": "code",
   "execution_count": 30,
   "id": "8213557b-0439-4e08-acd9-b023b5102fd7",
   "metadata": {},
   "outputs": [
    {
     "data": {
      "text/plain": [
       "\"my name is Emma 's\""
      ]
     },
     "execution_count": 30,
     "metadata": {},
     "output_type": "execute_result"
    }
   ],
   "source": [
    "name = \"Emma\"\n",
    "#pass down a referece for Emma which is 'name'\n",
    "f\"my name is {name} 's\"\n",
    "\n"
   ]
  },
  {
   "cell_type": "code",
   "execution_count": 36,
   "id": "c9c2c5da-c179-4e20-8a03-fd5bc06c97a6",
   "metadata": {},
   "outputs": [
    {
     "data": {
      "text/plain": [
       "'Balance : $ 77.89'"
      ]
     },
     "execution_count": 36,
     "metadata": {},
     "output_type": "execute_result"
    }
   ],
   "source": [
    "\"Balance : $ %.2f\" %77.8945\n",
    "# must use % to indicate number with 2 decimal place\n",
    "# f is the functionality"
   ]
  },
  {
   "cell_type": "code",
   "execution_count": 38,
   "id": "d6cd0601-595a-4a90-8457-169ef7e98565",
   "metadata": {},
   "outputs": [],
   "source": [
    "m = 1\n",
    "b = .5\n",
    "x = 7\n",
    "y = m*x + b  #linear regression\n"
   ]
  },
  {
   "cell_type": "code",
   "execution_count": 40,
   "id": "e55c3f1a-c71b-4174-bfe6-6d074592659e",
   "metadata": {},
   "outputs": [
    {
     "data": {
      "text/plain": [
       "complex"
      ]
     },
     "execution_count": 40,
     "metadata": {},
     "output_type": "execute_result"
    }
   ],
   "source": [
    "type (3+5j)"
   ]
  },
  {
   "cell_type": "markdown",
   "id": "9a284b26-4c1e-4aa9-a823-fbc9febc7166",
   "metadata": {},
   "source": [
    "# shortcuts\n",
    "    shift + enter - run cell and move to next\n",
    "    x cuts current cell\n",
    "    z undo cell deletion\n",
    "    dd delete\n",
    "    y change to code\n",
    "    m to markdown\n",
    "        (outside of cell)\n",
    "    b add cells below\n",
    "\n",
    "\n",
    "\n",
    "## Maths operations\n",
    "\n",
    "Check the power and square root\n",
    "$10^2$ $10\\times10$"
   ]
  },
  {
   "cell_type": "code",
   "execution_count": 46,
   "id": "a5949cf1-bae8-43ac-a199-8d3a07003e56",
   "metadata": {},
   "outputs": [
    {
     "data": {
      "text/plain": [
       "100"
      ]
     },
     "execution_count": 46,
     "metadata": {},
     "output_type": "execute_result"
    }
   ],
   "source": [
    "# power exponent\n",
    "10**2\n"
   ]
  },
  {
   "cell_type": "markdown",
   "id": "311416bf-abd4-4529-b9f4-417d491d0fa8",
   "metadata": {},
   "source": [
    "$\\sqrt10$"
   ]
  },
  {
   "cell_type": "code",
   "execution_count": 51,
   "id": "b3ba778c-5db0-422e-a561-3979574ed33b",
   "metadata": {},
   "outputs": [
    {
     "data": {
      "text/plain": [
       "10.0"
      ]
     },
     "execution_count": 51,
     "metadata": {},
     "output_type": "execute_result"
    }
   ],
   "source": [
    "# sqare root\n",
    "100**0.5"
   ]
  },
  {
   "cell_type": "markdown",
   "id": "4bd59b57-0a72-4e1a-994a-d657e92babea",
   "metadata": {},
   "source": [
    "# Converting data types"
   ]
  },
  {
   "cell_type": "code",
   "execution_count": 55,
   "id": "2fc3b436-6d86-4aa6-ad66-00576f9952e5",
   "metadata": {},
   "outputs": [
    {
     "data": {
      "text/plain": [
       "10.0"
      ]
     },
     "execution_count": 55,
     "metadata": {},
     "output_type": "execute_result"
    }
   ],
   "source": [
    "float(10)"
   ]
  },
  {
   "cell_type": "code",
   "execution_count": 57,
   "id": "ecdfa2ad-8ae2-4e07-ad96-1c1d47547b39",
   "metadata": {},
   "outputs": [
    {
     "data": {
      "text/plain": [
       "10"
      ]
     },
     "execution_count": 57,
     "metadata": {},
     "output_type": "execute_result"
    }
   ],
   "source": [
    "int (10.0)"
   ]
  },
  {
   "cell_type": "code",
   "execution_count": 59,
   "id": "e1db761e-8e3a-4aa4-aa85-b21dbcd78778",
   "metadata": {},
   "outputs": [
    {
     "data": {
      "text/plain": [
       "int"
      ]
     },
     "execution_count": 59,
     "metadata": {},
     "output_type": "execute_result"
    }
   ],
   "source": [
    "type (int(10.5))"
   ]
  },
  {
   "cell_type": "code",
   "execution_count": 63,
   "id": "d1ea304b-f0b1-4a2d-88bf-907955a17e1f",
   "metadata": {},
   "outputs": [
    {
     "data": {
      "text/plain": [
       "int"
      ]
     },
     "execution_count": 63,
     "metadata": {},
     "output_type": "execute_result"
    }
   ],
   "source": [
    "# Strings can have numbers too\n",
    "# \"10\" ==10 can turn string into number\n",
    "\n",
    "type(int(\"10\"))"
   ]
  },
  {
   "cell_type": "code",
   "execution_count": 67,
   "id": "ef8450cf-1317-42bc-8711-72b22f82447c",
   "metadata": {},
   "outputs": [
    {
     "name": "stdout",
     "output_type": "stream",
     "text": [
      "hello your name you are age old today\n",
      "hello declan you are 24 years old today\n"
     ]
    }
   ],
   "source": [
    "# use a function to dynamically pass vales to string\n",
    "name = \"declan\"\n",
    "age =\"24\"\n",
    "print (\"hello your name you are age old today\")\n",
    "print (\"hello {} you are {} years old today\".format (name, age))\n"
   ]
  },
  {
   "cell_type": "code",
   "execution_count": null,
   "id": "50cca0c0-2f59-4759-9935-25822a2fafa9",
   "metadata": {},
   "outputs": [],
   "source": []
  }
 ],
 "metadata": {
  "kernelspec": {
   "display_name": "Python 3 (ipykernel)",
   "language": "python",
   "name": "python3"
  },
  "language_info": {
   "codemirror_mode": {
    "name": "ipython",
    "version": 3
   },
   "file_extension": ".py",
   "mimetype": "text/x-python",
   "name": "python",
   "nbconvert_exporter": "python",
   "pygments_lexer": "ipython3",
   "version": "3.12.4"
  }
 },
 "nbformat": 4,
 "nbformat_minor": 5
}
